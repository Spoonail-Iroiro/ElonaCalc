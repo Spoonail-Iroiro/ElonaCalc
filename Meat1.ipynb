{
 "cells": [
  {
   "cell_type": "code",
   "execution_count": 1,
   "metadata": {
    "collapsed": true
   },
   "outputs": [],
   "source": [
    "import numpy as np\n",
    "from jupyterthemes import jtplot\n",
    "jtplot.style()\n",
    "from matplotlib import pyplot as plt\n",
    "%matplotlib inline\n",
    "from IPython.core.interactiveshell import InteractiveShell\n",
    "InteractiveShell.ast_node_interactivity = \"all\"\n",
    "import pandas as pd"
   ]
  },
  {
   "cell_type": "code",
   "execution_count": 2,
   "metadata": {},
   "outputs": [
    {
     "data": {
      "text/html": [
       "<div>\n",
       "<style scoped>\n",
       "    .dataframe tbody tr th:only-of-type {\n",
       "        vertical-align: middle;\n",
       "    }\n",
       "\n",
       "    .dataframe tbody tr th {\n",
       "        vertical-align: top;\n",
       "    }\n",
       "\n",
       "    .dataframe thead th {\n",
       "        text-align: right;\n",
       "    }\n",
       "</style>\n",
       "<table border=\"1\" class=\"dataframe\">\n",
       "  <thead>\n",
       "    <tr style=\"text-align: right;\">\n",
       "      <th></th>\n",
       "      <th>milk_count</th>\n",
       "      <th>height [cm]</th>\n",
       "      <th>weight [kg]</th>\n",
       "      <th>meat weight [s]</th>\n",
       "    </tr>\n",
       "  </thead>\n",
       "  <tbody>\n",
       "    <tr>\n",
       "      <th>0</th>\n",
       "      <td>0</td>\n",
       "      <td>44</td>\n",
       "      <td>3</td>\n",
       "      <td>0.7</td>\n",
       "    </tr>\n",
       "    <tr>\n",
       "      <th>1</th>\n",
       "      <td>20</td>\n",
       "      <td>95</td>\n",
       "      <td>4</td>\n",
       "      <td>0.7</td>\n",
       "    </tr>\n",
       "    <tr>\n",
       "      <th>2</th>\n",
       "      <td>40</td>\n",
       "      <td>200</td>\n",
       "      <td>28</td>\n",
       "      <td>0.8</td>\n",
       "    </tr>\n",
       "    <tr>\n",
       "      <th>3</th>\n",
       "      <td>60</td>\n",
       "      <td>410</td>\n",
       "      <td>113</td>\n",
       "      <td>1.0</td>\n",
       "    </tr>\n",
       "    <tr>\n",
       "      <th>4</th>\n",
       "      <td>80</td>\n",
       "      <td>752</td>\n",
       "      <td>407</td>\n",
       "      <td>1.7</td>\n",
       "    </tr>\n",
       "    <tr>\n",
       "      <th>5</th>\n",
       "      <td>100</td>\n",
       "      <td>1381</td>\n",
       "      <td>1373</td>\n",
       "      <td>4.1</td>\n",
       "    </tr>\n",
       "  </tbody>\n",
       "</table>\n",
       "</div>"
      ],
      "text/plain": [
       "   milk_count  height [cm]  weight [kg]  meat weight [s] \n",
       "0           0           44            3               0.7\n",
       "1          20           95            4               0.7\n",
       "2          40          200           28               0.8\n",
       "3          60          410          113               1.0\n",
       "4          80          752          407               1.7\n",
       "5         100         1381         1373               4.1"
      ]
     },
     "execution_count": 2,
     "metadata": {},
     "output_type": "execute_result"
    },
    {
     "name": "stdout",
     "output_type": "stream",
     "text": [
      "80000.0\n"
     ]
    },
    {
     "data": {
      "text/plain": [
       "<matplotlib.collections.PathCollection at 0x2df02042a20>"
      ]
     },
     "execution_count": 2,
     "metadata": {},
     "output_type": "execute_result"
    },
    {
     "data": {
      "text/plain": [
       "<matplotlib.collections.PathCollection at 0x2df020532b0>"
      ]
     },
     "execution_count": 2,
     "metadata": {},
     "output_type": "execute_result"
    },
    {
     "data": {
      "image/png": "[encoded data removed]",
      "text/plain": [
       "<matplotlib.figure.Figure at 0x2df7d99f898>"
      ]
     },
     "metadata": {},
     "output_type": "display_data"
    }
   ],
   "source": [
    "frame = pd.read_csv(\"data.csv\", header=0)\n",
    "\n",
    "frame\n",
    "\n",
    "#frame.plot.line(0,0,marker=\"o\")\n",
    "#frame.plot.line(0,1,marker=\"o\")\n",
    "#frame.plot.line(1,1,marker=\"o\")\n",
    "#frame.plot.line(2,2,marker=\"o\")\n",
    "\n",
    "#(4.1-0.8)/(1373-28)(x-1373)+4.1\n",
    "def funcMeatW(w):\n",
    "    return 3.3/1345.0*w - 3.3/1345.0*1373.0 + 4.1\n",
    "\n",
    "def invFuncMeatW(meatW):\n",
    "    return 1345.0/3.3 * (meatW + 3.3/1345.0 * 1373.0 - 4.1)\n",
    "        \n",
    "print(invFuncMeatW(funcMeatW(80000)))\n",
    "\n",
    "X_prac = range(0, 1500, 1)\n",
    "y_prac = [ funcMeatW(x) for x in X_prac ]\n",
    "\n",
    "plt.scatter(X_prac, y_prac, color=\"red\",s=5)\n",
    "\n",
    "X = frame.loc[:, \"weight [kg]\"].values.reshape(-1,1)\n",
    "y = frame.loc[:, \"meat weight [s] \"]\n",
    "\n",
    "plt.scatter(X, y)\n"
   ]
  },
  {
   "cell_type": "code",
   "execution_count": 3,
   "metadata": {},
   "outputs": [
    {
     "data": {
      "text/plain": [
       "<matplotlib.axes._subplots.AxesSubplot at 0x2df7f3eb9e8>"
      ]
     },
     "execution_count": 3,
     "metadata": {},
     "output_type": "execute_result"
    },
    {
     "data": {
      "image/png": "[encoded data removed]",
      "text/plain": [
       "<matplotlib.figure.Figure at 0x2df01e9b978>"
      ]
     },
     "metadata": {},
     "output_type": "display_data"
    }
   ],
   "source": [
    "frame = pd.read_csv(\"wh_data.csv\", header=0)\n",
    "\n",
    "#frame\n",
    "\n",
    "frame.plot.scatter(0,1,marker=\"o\", color=\"red\")\n"
   ]
  },
  {
   "cell_type": "code",
   "execution_count": 4,
   "metadata": {},
   "outputs": [
    {
     "data": {
      "text/plain": [
       "array([[ 44],\n",
       "       [ 90],\n",
       "       [ 90],\n",
       "       [ 90],\n",
       "       [110],\n",
       "       [110],\n",
       "       [110],\n",
       "       [115],\n",
       "       [115],\n",
       "       [134],\n",
       "       [134],\n",
       "       [159],\n",
       "       [159],\n",
       "       [185],\n",
       "       [185],\n",
       "       [199],\n",
       "       [199],\n",
       "       [238],\n",
       "       [238],\n",
       "       [284]], dtype=int64)"
      ]
     },
     "execution_count": 4,
     "metadata": {},
     "output_type": "execute_result"
    },
    {
     "data": {
      "text/plain": [
       "array([[  1.00000000e+00,   4.40000000e+01,   1.93600000e+03],\n",
       "       [  1.00000000e+00,   9.00000000e+01,   8.10000000e+03],\n",
       "       [  1.00000000e+00,   9.00000000e+01,   8.10000000e+03],\n",
       "       [  1.00000000e+00,   9.00000000e+01,   8.10000000e+03],\n",
       "       [  1.00000000e+00,   1.10000000e+02,   1.21000000e+04],\n",
       "       [  1.00000000e+00,   1.10000000e+02,   1.21000000e+04],\n",
       "       [  1.00000000e+00,   1.10000000e+02,   1.21000000e+04],\n",
       "       [  1.00000000e+00,   1.15000000e+02,   1.32250000e+04],\n",
       "       [  1.00000000e+00,   1.15000000e+02,   1.32250000e+04],\n",
       "       [  1.00000000e+00,   1.34000000e+02,   1.79560000e+04],\n",
       "       [  1.00000000e+00,   1.34000000e+02,   1.79560000e+04],\n",
       "       [  1.00000000e+00,   1.59000000e+02,   2.52810000e+04],\n",
       "       [  1.00000000e+00,   1.59000000e+02,   2.52810000e+04],\n",
       "       [  1.00000000e+00,   1.85000000e+02,   3.42250000e+04],\n",
       "       [  1.00000000e+00,   1.85000000e+02,   3.42250000e+04],\n",
       "       [  1.00000000e+00,   1.99000000e+02,   3.96010000e+04],\n",
       "       [  1.00000000e+00,   1.99000000e+02,   3.96010000e+04],\n",
       "       [  1.00000000e+00,   2.38000000e+02,   5.66440000e+04],\n",
       "       [  1.00000000e+00,   2.38000000e+02,   5.66440000e+04],\n",
       "       [  1.00000000e+00,   2.84000000e+02,   8.06560000e+04]])"
      ]
     },
     "execution_count": 4,
     "metadata": {},
     "output_type": "execute_result"
    },
    {
     "data": {
      "text/plain": [
       "array([[44],\n",
       "       [45],\n",
       "       [46],\n",
       "       [47],\n",
       "       [48],\n",
       "       [49],\n",
       "       [50],\n",
       "       [51],\n",
       "       [52],\n",
       "       [53],\n",
       "       [54],\n",
       "       [55],\n",
       "       [56],\n",
       "       [57],\n",
       "       [58],\n",
       "       [59],\n",
       "       [60],\n",
       "       [61],\n",
       "       [62],\n",
       "       [63]], dtype=int64)"
      ]
     },
     "execution_count": 4,
     "metadata": {},
     "output_type": "execute_result"
    }
   ],
   "source": [
    "from sklearn.linear_model import LinearRegression\n",
    "from sklearn.preprocessing import PolynomialFeatures\n",
    "\n",
    "mod = LinearRegression()\n",
    "\n",
    "quadric = PolynomialFeatures(degree=2)\n",
    "\n",
    "X = frame.loc[:, \"height [cm]\"].values.reshape(-1,1)\n",
    "y = frame.loc[:, \"weight [kg]\"].values\n",
    "\n",
    "X_quad = quadric.fit_transform(X)\n",
    "\n",
    "X[0:20]\n",
    "X_quad[0:20]\n",
    "\n",
    "X_fit = np.arange(X.min(), X.max(), 1)[:, np.newaxis]\n",
    "X_fit[0:20]\n"
   ]
  },
  {
   "cell_type": "code",
   "execution_count": 5,
   "metadata": {},
   "outputs": [
    {
     "data": {
      "text/plain": [
       "array([ 0.        ,  0.00192257,  0.00070368])"
      ]
     },
     "execution_count": 5,
     "metadata": {},
     "output_type": "execute_result"
    },
    {
     "data": {
      "text/plain": [
       "-1.8186540436402083"
      ]
     },
     "execution_count": 5,
     "metadata": {},
     "output_type": "execute_result"
    },
    {
     "data": {
      "text/plain": [
       "<matplotlib.collections.PathCollection at 0x2df04215e10>"
      ]
     },
     "execution_count": 5,
     "metadata": {},
     "output_type": "execute_result"
    },
    {
     "data": {
      "text/plain": [
       "<matplotlib.collections.PathCollection at 0x2df04264a58>"
      ]
     },
     "execution_count": 5,
     "metadata": {},
     "output_type": "execute_result"
    },
    {
     "data": {
      "text/plain": [
       "<matplotlib.collections.PathCollection at 0x2df042649e8>"
      ]
     },
     "execution_count": 5,
     "metadata": {},
     "output_type": "execute_result"
    },
    {
     "data": {
      "image/png": "[encoded data removed]",
      "text/plain": [
       "<matplotlib.figure.Figure at 0x2df0420bc88>"
      ]
     },
     "metadata": {},
     "output_type": "display_data"
    }
   ],
   "source": [
    "mod_quad = mod.fit(X_quad, y)\n",
    "y_pred = mod_quad.predict(quadric.fit_transform(X_fit))\n",
    "\n",
    "#plt.scatter(X_fit, y_pred, )\n",
    "#plt.scatter(X_fit, y_pred_cub)\n",
    "\n",
    "\n",
    "def funcW(h):\n",
    "    return 0.00070368 * h * h + 0.00192257 * h - 1.81865\n",
    "def gradFuncW(h):\n",
    "    return 2 * 0.00070368 * h + 0.00192257 \n",
    "\n",
    "mod_quad.coef_\n",
    "mod_quad.intercept_\n",
    "\n",
    "X_prac = range(0, 1500, 1)\n",
    "\n",
    "y_prac = [funcW(x) for x in X_prac]\n",
    "\n",
    "plt.scatter(np.array(X_prac), np.array(y_prac), color=\"yellow\", s=5)\n",
    "plt.scatter(X, y)\n",
    "\n",
    "X_data = [44, 95, 236,  200, 410, 752, 1381]\n",
    "y_data = [3, 4, 31, 28, 113, 407, 1373]\n",
    "\n",
    "plt.scatter(X_data, y_data, color=\"red\", s=20)\n"
   ]
  },
  {
   "cell_type": "code",
   "execution_count": 6,
   "metadata": {},
   "outputs": [
    {
     "name": "stdout",
     "output_type": "stream",
     "text": [
      "height: 4459.350603521185\n",
      "error: 6.363206921378151e-06\n",
      "roop 3\n"
     ]
    },
    {
     "data": {
      "text/plain": [
       "4459.350603521185"
      ]
     },
     "execution_count": 6,
     "metadata": {},
     "output_type": "execute_result"
    }
   ],
   "source": [
    "\n",
    "def invFuncW(w, allowError=0.00001):\n",
    "    #require weight\n",
    "    inter = w \n",
    "    #funcW(h) = 14000 equals funcW(h) - 14000 = 0\n",
    "    \n",
    "    def targetFunc(x):\n",
    "        return funcW(x) - inter\n",
    "    #gradTargetFunc = gradFuncW\n",
    "\n",
    "    x_now = 5000\n",
    "\n",
    "    for i in range(1000):\n",
    "        y_now = targetFunc(x_now)\n",
    "        grad_now = gradFuncW(x_now)\n",
    "        #0 = grad_now(x-x_now)+y_now\n",
    "        #x-x_now = -y_now/grad_now\n",
    "        x_new = x_now - y_now/grad_now\n",
    "        error = abs(targetFunc(x_new) - targetFunc(x_now))\n",
    "        x_now = x_new\n",
    "        if(error < allowError):\n",
    "            break;\n",
    "\n",
    "    print(\"height:\", x_now)\n",
    "    print(\"error:\", error)\n",
    "    print(\"roop\", i)\n",
    "    return x_now\n",
    "\n",
    "invFuncW(14000)"
   ]
  }
 ],
 "metadata": {
  "kernelspec": {
   "display_name": "Python 3",
   "language": "python",
   "name": "python3"
  },
  "language_info": {
   "codemirror_mode": {
    "name": "ipython",
    "version": 3
   },
   "file_extension": ".py",
   "mimetype": "text/x-python",
   "name": "python",
   "nbconvert_exporter": "python",
   "pygments_lexer": "ipython3",
   "version": "3.6.1"
  }
 },
 "nbformat": 4,
 "nbformat_minor": 2
}
