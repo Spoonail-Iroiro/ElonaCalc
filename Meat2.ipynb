{
 "cells": [
  {
   "cell_type": "code",
   "execution_count": 1,
   "metadata": {
    "collapsed": true
   },
   "outputs": [],
   "source": [
    "import numpy as np\n",
    "from jupyterthemes import jtplot\n",
    "jtplot.style()\n",
    "from matplotlib import pyplot as plt\n",
    "%matplotlib inline\n",
    "from IPython.core.interactiveshell import InteractiveShell\n",
    "InteractiveShell.ast_node_interactivity = \"all\"\n",
    "from MyMLLib.PlotUtil import Generate_cmap, PlotLossAndAccuracy\n",
    "import pandas as pd\n",
    "from sklearn.linear_model import LinearRegression\n",
    "from sklearn.preprocessing import PolynomialFeatures"
   ]
  },
  {
   "cell_type": "code",
   "execution_count": 2,
   "metadata": {
    "collapsed": true
   },
   "outputs": [],
   "source": [
    "def funcMeatW(w):\n",
    "    return 3.3/1345.0*w - 3.3/1345.0*1373.0 + 4.1\n",
    "\n",
    "def invFuncMeatW(meatW):\n",
    "    return 1345.0/3.3 * (meatW + 3.3/1345.0 * 1373.0 - 4.1)\n",
    "\n",
    "def funcW(h):\n",
    "    return 0.00070368 * h * h + 0.00192257 * h - 1.81865\n",
    "\n",
    "def invFuncW(w, allowError=0.00001):\n",
    "    #require weight\n",
    "    inter = w \n",
    "    #funcW(h) = 14000 equals funcW(h) - 14000 = 0\n",
    "    \n",
    "    def targetFunc(x):\n",
    "        return funcW(x) - inter\n",
    "    #gradTargetFunc = gradFuncW\n",
    "\n",
    "    x_now = 5000\n",
    "\n",
    "    for i in range(1000):\n",
    "        y_now = targetFunc(x_now)\n",
    "        grad_now = gradFuncW(x_now)\n",
    "        #0 = grad_now(x-x_now)+y_now\n",
    "        #x-x_now = -y_now/grad_now\n",
    "        x_new = x_now - y_now/grad_now\n",
    "        error = abs(targetFunc(x_new) - targetFunc(x_now))\n",
    "        x_now = x_new\n",
    "        if(error < allowError):\n",
    "            break;\n",
    "\n",
    "    print(\"height:\", x_now)\n",
    "    print(\"error:\", error)\n",
    "    print(\"roop\", i)\n",
    "    return x_now\n",
    "\n",
    "def gradFuncW(h):\n",
    "    return 2 * 0.00070368 * h + 0.00192257 \n",
    "\n"
   ]
  },
  {
   "cell_type": "code",
   "execution_count": 3,
   "metadata": {
    "collapsed": true
   },
   "outputs": [],
   "source": [
    "def getXandYByIndex(frame, X_idx, y_idx):\n",
    "    X = frame.iloc[:,X_idx].values.reshape(-1,1)\n",
    "    y = frame.iloc[:,y_idx].values\n",
    "    return X, y\n",
    "\n",
    "quadric = PolynomialFeatures(degree=2)\n",
    "def quadRegression(X, y):\n",
    "    mod = LinearRegression()\n",
    "    X_quad = quadric.fit_transform(X)\n",
    "    mod_quad = mod.fit(X_quad, y)\n",
    "    #y_pred = mod_quad.predict(quadric.fit_transform(X_fit))\n",
    "    return mod_quad\n",
    "\n",
    "def plotQuadModel(mod_quad, start=0, end=1500, step=1):\n",
    "    X_fit = np.arange(start, end, 1)[:, np.newaxis]\n",
    "    y_pred = mod_quad.predict(quadric.fit_transform(X_fit))\n",
    "    plt.scatter(np.array(X_fit), np.array(y_pred), color=\"yellow\", s=5)\n"
   ]
  },
  {
   "cell_type": "code",
   "execution_count": 4,
   "metadata": {},
   "outputs": [
    {
     "data": {
      "text/html": [
       "<div>\n",
       "<style scoped>\n",
       "    .dataframe tbody tr th:only-of-type {\n",
       "        vertical-align: middle;\n",
       "    }\n",
       "\n",
       "    .dataframe tbody tr th {\n",
       "        vertical-align: top;\n",
       "    }\n",
       "\n",
       "    .dataframe thead th {\n",
       "        text-align: right;\n",
       "    }\n",
       "</style>\n",
       "<table border=\"1\" class=\"dataframe\">\n",
       "  <thead>\n",
       "    <tr style=\"text-align: right;\">\n",
       "      <th></th>\n",
       "      <th>milk_count</th>\n",
       "      <th>height [cm]</th>\n",
       "    </tr>\n",
       "  </thead>\n",
       "  <tbody>\n",
       "    <tr>\n",
       "      <th>0</th>\n",
       "      <td>0</td>\n",
       "      <td>44</td>\n",
       "    </tr>\n",
       "    <tr>\n",
       "      <th>1</th>\n",
       "      <td>0</td>\n",
       "      <td>44</td>\n",
       "    </tr>\n",
       "    <tr>\n",
       "      <th>2</th>\n",
       "      <td>0</td>\n",
       "      <td>44</td>\n",
       "    </tr>\n",
       "    <tr>\n",
       "      <th>3</th>\n",
       "      <td>5</td>\n",
       "      <td>53</td>\n",
       "    </tr>\n",
       "    <tr>\n",
       "      <th>4</th>\n",
       "      <td>5</td>\n",
       "      <td>53</td>\n",
       "    </tr>\n",
       "    <tr>\n",
       "      <th>5</th>\n",
       "      <td>5</td>\n",
       "      <td>53</td>\n",
       "    </tr>\n",
       "    <tr>\n",
       "      <th>6</th>\n",
       "      <td>10</td>\n",
       "      <td>64</td>\n",
       "    </tr>\n",
       "    <tr>\n",
       "      <th>7</th>\n",
       "      <td>10</td>\n",
       "      <td>64</td>\n",
       "    </tr>\n",
       "    <tr>\n",
       "      <th>8</th>\n",
       "      <td>10</td>\n",
       "      <td>64</td>\n",
       "    </tr>\n",
       "    <tr>\n",
       "      <th>9</th>\n",
       "      <td>15</td>\n",
       "      <td>83</td>\n",
       "    </tr>\n",
       "    <tr>\n",
       "      <th>10</th>\n",
       "      <td>15</td>\n",
       "      <td>83</td>\n",
       "    </tr>\n",
       "    <tr>\n",
       "      <th>11</th>\n",
       "      <td>15</td>\n",
       "      <td>83</td>\n",
       "    </tr>\n",
       "    <tr>\n",
       "      <th>12</th>\n",
       "      <td>20</td>\n",
       "      <td>90</td>\n",
       "    </tr>\n",
       "    <tr>\n",
       "      <th>13</th>\n",
       "      <td>20</td>\n",
       "      <td>90</td>\n",
       "    </tr>\n",
       "    <tr>\n",
       "      <th>14</th>\n",
       "      <td>20</td>\n",
       "      <td>90</td>\n",
       "    </tr>\n",
       "    <tr>\n",
       "      <th>15</th>\n",
       "      <td>25</td>\n",
       "      <td>110</td>\n",
       "    </tr>\n",
       "    <tr>\n",
       "      <th>16</th>\n",
       "      <td>25</td>\n",
       "      <td>110</td>\n",
       "    </tr>\n",
       "    <tr>\n",
       "      <th>17</th>\n",
       "      <td>25</td>\n",
       "      <td>110</td>\n",
       "    </tr>\n",
       "    <tr>\n",
       "      <th>18</th>\n",
       "      <td>25</td>\n",
       "      <td>115</td>\n",
       "    </tr>\n",
       "    <tr>\n",
       "      <th>19</th>\n",
       "      <td>25</td>\n",
       "      <td>115</td>\n",
       "    </tr>\n",
       "    <tr>\n",
       "      <th>20</th>\n",
       "      <td>30</td>\n",
       "      <td>134</td>\n",
       "    </tr>\n",
       "    <tr>\n",
       "      <th>21</th>\n",
       "      <td>30</td>\n",
       "      <td>134</td>\n",
       "    </tr>\n",
       "    <tr>\n",
       "      <th>22</th>\n",
       "      <td>35</td>\n",
       "      <td>159</td>\n",
       "    </tr>\n",
       "    <tr>\n",
       "      <th>23</th>\n",
       "      <td>35</td>\n",
       "      <td>159</td>\n",
       "    </tr>\n",
       "    <tr>\n",
       "      <th>24</th>\n",
       "      <td>40</td>\n",
       "      <td>185</td>\n",
       "    </tr>\n",
       "    <tr>\n",
       "      <th>25</th>\n",
       "      <td>40</td>\n",
       "      <td>185</td>\n",
       "    </tr>\n",
       "    <tr>\n",
       "      <th>26</th>\n",
       "      <td>45</td>\n",
       "      <td>199</td>\n",
       "    </tr>\n",
       "    <tr>\n",
       "      <th>27</th>\n",
       "      <td>45</td>\n",
       "      <td>199</td>\n",
       "    </tr>\n",
       "    <tr>\n",
       "      <th>28</th>\n",
       "      <td>50</td>\n",
       "      <td>238</td>\n",
       "    </tr>\n",
       "    <tr>\n",
       "      <th>29</th>\n",
       "      <td>50</td>\n",
       "      <td>238</td>\n",
       "    </tr>\n",
       "  </tbody>\n",
       "</table>\n",
       "</div>"
      ],
      "text/plain": [
       "    milk_count  height [cm]\n",
       "0            0           44\n",
       "1            0           44\n",
       "2            0           44\n",
       "3            5           53\n",
       "4            5           53\n",
       "5            5           53\n",
       "6           10           64\n",
       "7           10           64\n",
       "8           10           64\n",
       "9           15           83\n",
       "10          15           83\n",
       "11          15           83\n",
       "12          20           90\n",
       "13          20           90\n",
       "14          20           90\n",
       "15          25          110\n",
       "16          25          110\n",
       "17          25          110\n",
       "18          25          115\n",
       "19          25          115\n",
       "20          30          134\n",
       "21          30          134\n",
       "22          35          159\n",
       "23          35          159\n",
       "24          40          185\n",
       "25          40          185\n",
       "26          45          199\n",
       "27          45          199\n",
       "28          50          238\n",
       "29          50          238"
      ]
     },
     "execution_count": 4,
     "metadata": {},
     "output_type": "execute_result"
    },
    {
     "data": {
      "text/plain": [
       "<matplotlib.collections.PathCollection at 0x22e8cadddd8>"
      ]
     },
     "execution_count": 4,
     "metadata": {},
     "output_type": "execute_result"
    },
    {
     "data": {
      "image/png": "[encoded data removed]",
      "text/plain": [
       "<matplotlib.figure.Figure at 0x22e8fea5588>"
      ]
     },
     "metadata": {},
     "output_type": "display_data"
    }
   ],
   "source": [
    "frame = pd.read_csv(\"mh_data.csv\")\n",
    "frame[0:30]\n",
    "\n",
    "X, y = getXandYByIndex(frame, 0, 1)\n",
    "mod = quadRegression(X, y)\n",
    "plotQuadModel(mod, 0, X.max())\n",
    "plt.scatter(X, y)\n"
   ]
  },
  {
   "cell_type": "code",
   "execution_count": 5,
   "metadata": {},
   "outputs": [
    {
     "data": {
      "text/plain": [
       "<matplotlib.collections.PathCollection at 0x22e90413320>"
      ]
     },
     "execution_count": 5,
     "metadata": {},
     "output_type": "execute_result"
    },
    {
     "data": {
      "text/plain": [
       "<matplotlib.text.Text at 0x22e903e0860>"
      ]
     },
     "execution_count": 5,
     "metadata": {},
     "output_type": "execute_result"
    },
    {
     "data": {
      "image/png": "[encoded data removed]",
      "text/plain": [
       "<matplotlib.figure.Figure at 0x22e903789b0>"
      ]
     },
     "metadata": {},
     "output_type": "display_data"
    },
    {
     "data": {
      "text/plain": [
       "<matplotlib.collections.PathCollection at 0x22e904c4b38>"
      ]
     },
     "execution_count": 5,
     "metadata": {},
     "output_type": "execute_result"
    },
    {
     "data": {
      "text/plain": [
       "<matplotlib.collections.PathCollection at 0x22e903aee48>"
      ]
     },
     "execution_count": 5,
     "metadata": {},
     "output_type": "execute_result"
    },
    {
     "data": {
      "image/png": "[encoded data removed]",
      "text/plain": [
       "<matplotlib.figure.Figure at 0x22e8febef98>"
      ]
     },
     "metadata": {},
     "output_type": "display_data"
    },
    {
     "data": {
      "text/plain": [
       "array([ 0.03173416])"
      ]
     },
     "execution_count": 5,
     "metadata": {},
     "output_type": "execute_result"
    },
    {
     "data": {
      "text/plain": [
       "3.8776941851373898"
      ]
     },
     "execution_count": 5,
     "metadata": {},
     "output_type": "execute_result"
    },
    {
     "data": {
      "text/plain": [
       "<matplotlib.collections.PathCollection at 0x22e9056c6d8>"
      ]
     },
     "execution_count": 5,
     "metadata": {},
     "output_type": "execute_result"
    },
    {
     "data": {
      "text/plain": [
       "<matplotlib.collections.PathCollection at 0x22e90574208>"
      ]
     },
     "execution_count": 5,
     "metadata": {},
     "output_type": "execute_result"
    },
    {
     "name": "stdout",
     "output_type": "stream",
     "text": [
      "1.03306918218\n",
      "48.3126864281\n"
     ]
    },
    {
     "data": {
      "text/plain": [
       "<matplotlib.collections.PathCollection at 0x22e90574cf8>"
      ]
     },
     "execution_count": 5,
     "metadata": {},
     "output_type": "execute_result"
    },
    {
     "data": {
      "image/png": "[encoded data removed]",
      "text/plain": [
       "<matplotlib.figure.Figure at 0x22e904ed0b8>"
      ]
     },
     "metadata": {},
     "output_type": "display_data"
    }
   ],
   "source": [
    "#get Y = log(y) regression\n",
    "\n",
    "logY = np.log(y)\n",
    "plt.scatter(X, logY)\n",
    "plt.title('milk_count - log(height)')\n",
    "plt.show()\n",
    "\n",
    "\n",
    "mod = LinearRegression()\n",
    "mod_log = mod.fit(X, logY)\n",
    "\n",
    "X_pred = np.arange(0, 120, 1)[:, np.newaxis]\n",
    "\n",
    "y_pred = mod.predict(X_pred)\n",
    "\n",
    "plt.scatter(X_pred, y_pred, color=\"yellow\",s=5)\n",
    "plt.scatter(X, logY)\n",
    "plt.show()\n",
    "\n",
    "mod.coef_\n",
    "mod.intercept_\n",
    "\n",
    "def predFuncH(X):\n",
    "    return np.exp(3.8776941851373898) * np.exp(0.03173416 * X)\n",
    "\n",
    "plt.scatter(X_pred, predFuncH(X_pred), color=\"yellow\",s=5)\n",
    "plt.scatter(X, y)\n",
    "\n",
    "print(np.exp(0.03253416))\n",
    "print(np.exp(3.8776941851373898))\n",
    "\n",
    "# h = h_now * (e^0.03173416)^m\n",
    "# log(h) = log(h_now) + 0.03173416m\n",
    "# m = (log(h) - log(h_now))/0.03173416\n",
    "\n",
    "#m = log(h/h_now) / 0.03173416\n",
    "\n",
    "def invFuncH(h_now, h):\n",
    "    return np.log(h/h_now)/0.03253416\n",
    "\n",
    "#初期値44kgでフィッティングした場合\n",
    "def funcH(h_now, milk):\n",
    "    return h_now * np.exp(0.03253416 * milk)\n",
    "\n",
    "plt.scatter(X_pred, funcH(44, X_pred), color=\"red\",s=5)\n"
   ]
  },
  {
   "cell_type": "code",
   "execution_count": 6,
   "metadata": {
    "collapsed": true
   },
   "outputs": [],
   "source": [
    "def yEqual(X, a):\n",
    "    return a * (X + 1)/(X + 1)\n"
   ]
  },
  {
   "cell_type": "code",
   "execution_count": 7,
   "metadata": {},
   "outputs": [
    {
     "name": "stdout",
     "output_type": "stream",
     "text": [
      "height: 10822.582051401947\n",
      "error: 4.190951585769653e-09\n",
      "roop 5\n"
     ]
    },
    {
     "data": {
      "image/png": "[encoded data removed]",
      "text/plain": [
       "<matplotlib.figure.Figure at 0x22e9048b080>"
      ]
     },
     "metadata": {},
     "output_type": "display_data"
    },
    {
     "name": "stdout",
     "output_type": "stream",
     "text": [
      "82439.81818181819 [kg]\n"
     ]
    },
    {
     "data": {
      "image/png": "[encoded data removed]",
      "text/plain": [
       "<matplotlib.figure.Figure at 0x22e903c3e48>"
      ]
     },
     "metadata": {},
     "output_type": "display_data"
    },
    {
     "name": "stdout",
     "output_type": "stream",
     "text": [
      "10822.582051401947 [cm]\n"
     ]
    },
    {
     "data": {
      "image/png": "[encoded data removed]",
      "text/plain": [
       "<matplotlib.figure.Figure at 0x22e90583828>"
      ]
     },
     "metadata": {},
     "output_type": "display_data"
    },
    {
     "name": "stdout",
     "output_type": "stream",
     "text": [
      "143.978512888 count\n"
     ]
    },
    {
     "data": {
      "image/png": "[encoded data removed]",
      "text/plain": [
       "<matplotlib.figure.Figure at 0x22e908d3a58>"
      ]
     },
     "metadata": {},
     "output_type": "display_data"
    }
   ],
   "source": [
    "h_now = 100\n",
    "\n",
    "target_meat_weight = 203\n",
    "target_weight = invFuncMeatW(target_meat_weight)\n",
    "target_height = invFuncW(target_weight)\n",
    "target_milk = invFuncH(h_now,target_height)\n",
    "\n",
    "#def funcYEqual(X, a):\n",
    "#    return np.ones((-1,X.shape[]))\n",
    "\n",
    "\n",
    "\n",
    "\n",
    "X_weight = np.arange(0, target_weight + 500, 1)[:, np.newaxis]\n",
    "tmp = plt.scatter(X_weight, funcMeatW(X_weight),color='yellow',s=5) \n",
    "tmp = plt.scatter(X_weight, yEqual(X_weight,target_meat_weight),color='red',s=5) \n",
    "tmp = plt.title(\"weight [kg] vs meat weight [s]\")\n",
    "tmp = plt.xlabel(\"weight [kg]\")\n",
    "tmp = plt.ylabel(\"meat weight [s]\")\n",
    "tmp = plt.show()\n",
    "print(target_weight, '[kg]')\n",
    "\n",
    "X_height = np.arange(0, target_height + 100, 1)[:, np.newaxis]\n",
    "tmp = plt.scatter(X_height, funcW(X_height),color='yellow',s=5) \n",
    "tmp = plt.scatter(X_height, yEqual(X_height,target_weight),color='red',s=5) \n",
    "tmp = plt.title(\"height [cm] vs weight [kg]\")\n",
    "tmp = plt.xlabel(\"height [cm]\")\n",
    "tmp = plt.ylabel(\"weight [kg]\")\n",
    "tmp = plt.show()\n",
    "\n",
    "print(target_height, '[cm]')\n",
    "\n",
    "X_milk = np.arange(0, target_milk+10, 0.1)[:, np.newaxis]\n",
    "tmp = plt.scatter(X_milk, funcH(h_now,X_milk),color='yellow',s=5) \n",
    "tmp = plt.scatter(X_milk, yEqual(X_milk,target_height),color='red',s=5) \n",
    "tmp = plt.title(\"milk vs height [cm]\")\n",
    "tmp = plt.xlabel(\"milk\")\n",
    "tmp = plt.ylabel(\"height [cm]\")\n",
    "tmp = plt.show()\n",
    "print(target_milk, 'count')\n",
    "\n",
    "\n",
    "y = funcMeatW(funcW(funcH(h_now, X_milk[0:1800])))\n",
    "\n",
    "tmp = plt.scatter(X_milk[0:1800], y,color='yellow',s=5) \n",
    "#tmp = plt.scatter(X_milk, yEqual(X_milk,target_meat_weight),color='red',s=5) \n",
    "tmp = plt.title(\"milk vs meat weight [s]\")\n",
    "tmp = plt.xlabel(\"milk\")\n",
    "tmp = plt.ylabel(\"meat weight [s]\")\n",
    "tmp = plt.show()\n",
    "\n",
    "\n"
   ]
  }
 ],
 "metadata": {
  "kernelspec": {
   "display_name": "Python 3",
   "language": "python",
   "name": "python3"
  },
  "language_info": {
   "codemirror_mode": {
    "name": "ipython",
    "version": 3
   },
   "file_extension": ".py",
   "mimetype": "text/x-python",
   "name": "python",
   "nbconvert_exporter": "python",
   "pygments_lexer": "ipython3",
   "version": "3.6.1"
  }
 },
 "nbformat": 4,
 "nbformat_minor": 2
}
